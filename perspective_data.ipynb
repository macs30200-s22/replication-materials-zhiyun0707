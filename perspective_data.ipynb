{
 "cells": [
  {
   "cell_type": "code",
   "execution_count": 2,
   "id": "5184b9c6",
   "metadata": {},
   "outputs": [],
   "source": [
    "import pandas as pd\n",
    "import seaborn as sns"
   ]
  },
  {
   "cell_type": "markdown",
   "id": "f72800e8",
   "metadata": {},
   "source": [
    "# Overview of the income, dependent variable"
   ]
  },
  {
   "cell_type": "code",
   "execution_count": 83,
   "id": "2e94346e",
   "metadata": {},
   "outputs": [],
   "source": [
    "income = pd.read_csv('income_county_clean.csv')"
   ]
  },
  {
   "cell_type": "code",
   "execution_count": 84,
   "id": "d076c603",
   "metadata": {},
   "outputs": [
    {
     "data": {
      "text/html": [
       "<div>\n",
       "<style scoped>\n",
       "    .dataframe tbody tr th:only-of-type {\n",
       "        vertical-align: middle;\n",
       "    }\n",
       "\n",
       "    .dataframe tbody tr th {\n",
       "        vertical-align: top;\n",
       "    }\n",
       "\n",
       "    .dataframe thead th {\n",
       "        text-align: right;\n",
       "    }\n",
       "</style>\n",
       "<table border=\"1\" class=\"dataframe\">\n",
       "  <thead>\n",
       "    <tr style=\"text-align: right;\">\n",
       "      <th></th>\n",
       "      <th>County Name</th>\n",
       "      <th>2018</th>\n",
       "      <th>2019</th>\n",
       "      <th>2020</th>\n",
       "    </tr>\n",
       "  </thead>\n",
       "  <tbody>\n",
       "    <tr>\n",
       "      <th>0</th>\n",
       "      <td>United States</td>\n",
       "      <td>54,098</td>\n",
       "      <td>56,047</td>\n",
       "      <td>59510.0</td>\n",
       "    </tr>\n",
       "    <tr>\n",
       "      <th>1</th>\n",
       "      <td>Alabama</td>\n",
       "      <td>42,328</td>\n",
       "      <td>43,996</td>\n",
       "      <td>46479.0</td>\n",
       "    </tr>\n",
       "    <tr>\n",
       "      <th>2</th>\n",
       "      <td>Autauga</td>\n",
       "      <td>42,931</td>\n",
       "      <td>44,368</td>\n",
       "      <td>46814.0</td>\n",
       "    </tr>\n",
       "    <tr>\n",
       "      <th>3</th>\n",
       "      <td>Baldwin</td>\n",
       "      <td>46,905</td>\n",
       "      <td>48,270</td>\n",
       "      <td>50953.0</td>\n",
       "    </tr>\n",
       "    <tr>\n",
       "      <th>4</th>\n",
       "      <td>Barbour</td>\n",
       "      <td>34,064</td>\n",
       "      <td>35,572</td>\n",
       "      <td>37850.0</td>\n",
       "    </tr>\n",
       "  </tbody>\n",
       "</table>\n",
       "</div>"
      ],
      "text/plain": [
       "     County Name    2018    2019     2020\n",
       "0  United States  54,098  56,047  59510.0\n",
       "1        Alabama  42,328  43,996  46479.0\n",
       "2        Autauga  42,931  44,368  46814.0\n",
       "3        Baldwin  46,905  48,270  50953.0\n",
       "4        Barbour  34,064  35,572  37850.0"
      ]
     },
     "execution_count": 84,
     "metadata": {},
     "output_type": "execute_result"
    }
   ],
   "source": [
    "income.head()"
   ]
  },
  {
   "cell_type": "markdown",
   "id": "369533ea",
   "metadata": {},
   "source": [
    "Even though the dataset is stated as on the county level, there is county as well as the state level statistics, so need to remove the state-level and United States"
   ]
  },
  {
   "cell_type": "code",
   "execution_count": 85,
   "id": "65f4a0f4",
   "metadata": {},
   "outputs": [],
   "source": [
    "income = income.rename(columns={'County Name': 'County&State'})"
   ]
  },
  {
   "cell_type": "code",
   "execution_count": 104,
   "id": "f410a9fa",
   "metadata": {},
   "outputs": [
    {
     "data": {
      "text/plain": [
       "0"
      ]
     },
     "execution_count": 104,
     "metadata": {},
     "output_type": "execute_result"
    }
   ],
   "source": [
    "#remove any null values\n",
    "income = income[income['County&State'].notna()]\n",
    "income['County&State'].isnull().sum()"
   ]
  },
  {
   "cell_type": "code",
   "execution_count": 109,
   "id": "ccb90b81",
   "metadata": {},
   "outputs": [],
   "source": [
    "#get a copy of the state names from the Internet\n",
    "state_names = [\"United States\", \"Alaska\", \"Alabama\", \"Arkansas\", \"American Samoa\", \n",
    "               \"Arizona\", \"California\", \"Colorado\", \"Connecticut\", \n",
    "               \"District \", \"of Columbia\", \"Delaware\", \"Florida\", \n",
    "               \"Georgia\", \"Guam\", \"Hawaii\", \"Iowa\", \"Idaho\", \"Illinois\", \n",
    "               \"Indiana\", \"Kansas\", \"Kentucky\", \"Louisiana\", \"Massachusetts\", \n",
    "               \"Maryland\", \"Maine\", \"Michigan\", \"Minnesota\", \"Missouri\", \"Mississippi\", \n",
    "               \"Montana\", \"North Carolina\", \"North Dakota\", \"Nebraska\", \"New Hampshire\", \n",
    "               \"New Jersey\", \"New Mexico\", \"Nevada\", \"New York\", \"Ohio\", \"Oklahoma\", \n",
    "               \"Oregon\", \"Pennsylvania\", \"Puerto Rico\", \"Rhode Island\", \"South Carolina\", \n",
    "               \"South Dakota\", \"Tennessee\", \"Texas\", \"Utah\", \"Virginia\", \n",
    "               \"Virgin Islands\", \"Vermont\", \"Washington\", \"Wisconsin\", \"West Virginia\", \"Wyoming\"]"
   ]
  },
  {
   "cell_type": "code",
   "execution_count": 110,
   "id": "88aa1a91",
   "metadata": {},
   "outputs": [],
   "source": [
    "#filter out the states, and only county\n",
    "income.loc[:,'only_county'] = income.loc[:,'County&State'].apply(lambda x: \" \".join(x for x in x.split() if x not in state_names))\n",
    "#filter out the county, and keep the state\n",
    "#income.loc[:, 'only_state'] = income.loc[:,'County&State'].apply(lambda x: \" \".join(x for x in x.split() if x in state_names))"
   ]
  },
  {
   "cell_type": "code",
   "execution_count": 111,
   "id": "af436da5",
   "metadata": {},
   "outputs": [],
   "source": [
    "income = income[income['only_county'] != '']\n",
    "income = income.drop(0)"
   ]
  },
  {
   "cell_type": "code",
   "execution_count": 126,
   "id": "878a730b",
   "metadata": {},
   "outputs": [],
   "source": [
    "#get the county level data, convert to numerical\n",
    "county_income = income[['only_county', '2020']]\n",
    "county_income.loc[:, \"2020\"] = pd.to_numeric(county_income.loc[:, \"2020\"])"
   ]
  },
  {
   "cell_type": "code",
   "execution_count": 127,
   "id": "cfd39545",
   "metadata": {},
   "outputs": [
    {
     "data": {
      "text/html": [
       "<div>\n",
       "<style scoped>\n",
       "    .dataframe tbody tr th:only-of-type {\n",
       "        vertical-align: middle;\n",
       "    }\n",
       "\n",
       "    .dataframe tbody tr th {\n",
       "        vertical-align: top;\n",
       "    }\n",
       "\n",
       "    .dataframe thead th {\n",
       "        text-align: right;\n",
       "    }\n",
       "</style>\n",
       "<table border=\"1\" class=\"dataframe\">\n",
       "  <thead>\n",
       "    <tr style=\"text-align: right;\">\n",
       "      <th></th>\n",
       "      <th>2020</th>\n",
       "    </tr>\n",
       "  </thead>\n",
       "  <tbody>\n",
       "    <tr>\n",
       "      <th>count</th>\n",
       "      <td>3067.000000</td>\n",
       "    </tr>\n",
       "    <tr>\n",
       "      <th>mean</th>\n",
       "      <td>49079.465602</td>\n",
       "    </tr>\n",
       "    <tr>\n",
       "      <th>std</th>\n",
       "      <td>13178.245679</td>\n",
       "    </tr>\n",
       "    <tr>\n",
       "      <th>min</th>\n",
       "      <td>21087.000000</td>\n",
       "    </tr>\n",
       "    <tr>\n",
       "      <th>25%</th>\n",
       "      <td>41069.000000</td>\n",
       "    </tr>\n",
       "    <tr>\n",
       "      <th>50%</th>\n",
       "      <td>46679.000000</td>\n",
       "    </tr>\n",
       "    <tr>\n",
       "      <th>75%</th>\n",
       "      <td>54038.000000</td>\n",
       "    </tr>\n",
       "    <tr>\n",
       "      <th>max</th>\n",
       "      <td>220645.000000</td>\n",
       "    </tr>\n",
       "  </tbody>\n",
       "</table>\n",
       "</div>"
      ],
      "text/plain": [
       "                2020\n",
       "count    3067.000000\n",
       "mean    49079.465602\n",
       "std     13178.245679\n",
       "min     21087.000000\n",
       "25%     41069.000000\n",
       "50%     46679.000000\n",
       "75%     54038.000000\n",
       "max    220645.000000"
      ]
     },
     "execution_count": 127,
     "metadata": {},
     "output_type": "execute_result"
    }
   ],
   "source": [
    "county_income.describe()"
   ]
  },
  {
   "cell_type": "code",
   "execution_count": 129,
   "id": "2f321bf8",
   "metadata": {},
   "outputs": [
    {
     "data": {
      "text/plain": [
       "<seaborn.axisgrid.FacetGrid at 0x7fc15a2c9a60>"
      ]
     },
     "execution_count": 129,
     "metadata": {},
     "output_type": "execute_result"
    },
    {
     "data": {
      "image/png": "[encoded data removed]",
      "text/plain": [
       "<Figure size 360x360 with 1 Axes>"
      ]
     },
     "metadata": {
      "needs_background": "light"
     },
     "output_type": "display_data"
    }
   ],
   "source": [
    "sns.displot(county_income, x=\"2020\")"
   ]
  },
  {
   "cell_type": "markdown",
   "id": "2652fc40",
   "metadata": {},
   "source": [
    "# Overview of the control variables"
   ]
  },
  {
   "cell_type": "code",
   "execution_count": 130,
   "id": "1c152d87",
   "metadata": {},
   "outputs": [],
   "source": [
    "combine = pd.read_csv('combine_data.csv')"
   ]
  },
  {
   "cell_type": "code",
   "execution_count": 131,
   "id": "577e88de",
   "metadata": {},
   "outputs": [
    {
     "data": {
      "text/html": [
       "<div>\n",
       "<style scoped>\n",
       "    .dataframe tbody tr th:only-of-type {\n",
       "        vertical-align: middle;\n",
       "    }\n",
       "\n",
       "    .dataframe tbody tr th {\n",
       "        vertical-align: top;\n",
       "    }\n",
       "\n",
       "    .dataframe thead th {\n",
       "        text-align: right;\n",
       "    }\n",
       "</style>\n",
       "<table border=\"1\" class=\"dataframe\">\n",
       "  <thead>\n",
       "    <tr style=\"text-align: right;\">\n",
       "      <th></th>\n",
       "      <th>id</th>\n",
       "      <th>Geographic Area Name</th>\n",
       "      <th>Total Population</th>\n",
       "      <th>Female Total Population</th>\n",
       "      <th>Female Percentage</th>\n",
       "      <th>Male Percentage</th>\n",
       "      <th>Married percentage</th>\n",
       "      <th>50% below the poverty level</th>\n",
       "      <th>Poverty level percentage</th>\n",
       "      <th>High school graduate (includes equivalency) (18-24)</th>\n",
       "      <th>...</th>\n",
       "      <th>Not Hispanic nor Latino</th>\n",
       "      <th>Hispanic or Latino population percentage</th>\n",
       "      <th>Not Hispanic nor Lation population percentage</th>\n",
       "      <th>White</th>\n",
       "      <th>Black or African American</th>\n",
       "      <th>American Indian and Alaska Native alone</th>\n",
       "      <th>Asian</th>\n",
       "      <th>Native Hawaiian and Other Pacific Islander alone</th>\n",
       "      <th>Some Other Race alone</th>\n",
       "      <th>Unnamed: 34</th>\n",
       "    </tr>\n",
       "  </thead>\n",
       "  <tbody>\n",
       "    <tr>\n",
       "      <th>0</th>\n",
       "      <td>0500000US01001</td>\n",
       "      <td>Autauga County, Alabama</td>\n",
       "      <td>55639</td>\n",
       "      <td>28587</td>\n",
       "      <td>51.38%</td>\n",
       "      <td>48.62%</td>\n",
       "      <td>52.0</td>\n",
       "      <td>3504</td>\n",
       "      <td>6.30%</td>\n",
       "      <td>1723</td>\n",
       "      <td>...</td>\n",
       "      <td>56688</td>\n",
       "      <td>3.80%</td>\n",
       "      <td>96.20%</td>\n",
       "      <td>41582</td>\n",
       "      <td>11352</td>\n",
       "      <td>184</td>\n",
       "      <td>873</td>\n",
       "      <td>22</td>\n",
       "      <td>185</td>\n",
       "      <td>NaN</td>\n",
       "    </tr>\n",
       "    <tr>\n",
       "      <th>1</th>\n",
       "      <td>0500000US01003</td>\n",
       "      <td>Baldwin County, Alabama</td>\n",
       "      <td>218289</td>\n",
       "      <td>112400</td>\n",
       "      <td>51.49%</td>\n",
       "      <td>48.51%</td>\n",
       "      <td>55.2</td>\n",
       "      <td>7250</td>\n",
       "      <td>3.32%</td>\n",
       "      <td>5569</td>\n",
       "      <td>...</td>\n",
       "      <td>219081</td>\n",
       "      <td>5.81%</td>\n",
       "      <td>94.19%</td>\n",
       "      <td>186495</td>\n",
       "      <td>18001</td>\n",
       "      <td>1291</td>\n",
       "      <td>2029</td>\n",
       "      <td>122</td>\n",
       "      <td>775</td>\n",
       "      <td>NaN</td>\n",
       "    </tr>\n",
       "    <tr>\n",
       "      <th>2</th>\n",
       "      <td>0500000US01005</td>\n",
       "      <td>Barbour County, Alabama</td>\n",
       "      <td>25026</td>\n",
       "      <td>11870</td>\n",
       "      <td>47.43%</td>\n",
       "      <td>52.57%</td>\n",
       "      <td>38.5</td>\n",
       "      <td>3018</td>\n",
       "      <td>12.06%</td>\n",
       "      <td>875</td>\n",
       "      <td>...</td>\n",
       "      <td>23713</td>\n",
       "      <td>6.03%</td>\n",
       "      <td>93.97%</td>\n",
       "      <td>11086</td>\n",
       "      <td>11850</td>\n",
       "      <td>58</td>\n",
       "      <td>103</td>\n",
       "      <td>0</td>\n",
       "      <td>63</td>\n",
       "      <td>NaN</td>\n",
       "    </tr>\n",
       "    <tr>\n",
       "      <th>3</th>\n",
       "      <td>0500000US01007</td>\n",
       "      <td>Bibb County, Alabama</td>\n",
       "      <td>22374</td>\n",
       "      <td>10352</td>\n",
       "      <td>46.27%</td>\n",
       "      <td>53.73%</td>\n",
       "      <td>42.2</td>\n",
       "      <td>1875</td>\n",
       "      <td>8.38%</td>\n",
       "      <td>1104</td>\n",
       "      <td>...</td>\n",
       "      <td>21553</td>\n",
       "      <td>3.31%</td>\n",
       "      <td>96.69%</td>\n",
       "      <td>16442</td>\n",
       "      <td>4390</td>\n",
       "      <td>39</td>\n",
       "      <td>26</td>\n",
       "      <td>9</td>\n",
       "      <td>47</td>\n",
       "      <td>NaN</td>\n",
       "    </tr>\n",
       "    <tr>\n",
       "      <th>4</th>\n",
       "      <td>0500000US01009</td>\n",
       "      <td>Blount County, Alabama</td>\n",
       "      <td>57755</td>\n",
       "      <td>29078</td>\n",
       "      <td>50.35%</td>\n",
       "      <td>49.65%</td>\n",
       "      <td>56.0</td>\n",
       "      <td>3834</td>\n",
       "      <td>6.64%</td>\n",
       "      <td>1833</td>\n",
       "      <td>...</td>\n",
       "      <td>53363</td>\n",
       "      <td>9.99%</td>\n",
       "      <td>90.01%</td>\n",
       "      <td>49764</td>\n",
       "      <td>826</td>\n",
       "      <td>188</td>\n",
       "      <td>174</td>\n",
       "      <td>11</td>\n",
       "      <td>100</td>\n",
       "      <td>NaN</td>\n",
       "    </tr>\n",
       "  </tbody>\n",
       "</table>\n",
       "<p>5 rows × 35 columns</p>\n",
       "</div>"
      ],
      "text/plain": [
       "               id     Geographic Area Name  Total Population  \\\n",
       "0  0500000US01001  Autauga County, Alabama             55639   \n",
       "1  0500000US01003  Baldwin County, Alabama            218289   \n",
       "2  0500000US01005  Barbour County, Alabama             25026   \n",
       "3  0500000US01007     Bibb County, Alabama             22374   \n",
       "4  0500000US01009   Blount County, Alabama             57755   \n",
       "\n",
       "   Female Total Population Female Percentage Male Percentage  \\\n",
       "0                    28587            51.38%          48.62%   \n",
       "1                   112400            51.49%          48.51%   \n",
       "2                    11870            47.43%          52.57%   \n",
       "3                    10352            46.27%          53.73%   \n",
       "4                    29078            50.35%          49.65%   \n",
       "\n",
       "   Married percentage  50% below the poverty level Poverty level percentage  \\\n",
       "0                52.0                         3504                    6.30%   \n",
       "1                55.2                         7250                    3.32%   \n",
       "2                38.5                         3018                   12.06%   \n",
       "3                42.2                         1875                    8.38%   \n",
       "4                56.0                         3834                    6.64%   \n",
       "\n",
       "   High school graduate (includes equivalency) (18-24)  ...  \\\n",
       "0                                               1723    ...   \n",
       "1                                               5569    ...   \n",
       "2                                                875    ...   \n",
       "3                                               1104    ...   \n",
       "4                                               1833    ...   \n",
       "\n",
       "   Not Hispanic nor Latino  Hispanic or Latino population percentage  \\\n",
       "0                    56688                                     3.80%   \n",
       "1                   219081                                     5.81%   \n",
       "2                    23713                                     6.03%   \n",
       "3                    21553                                     3.31%   \n",
       "4                    53363                                     9.99%   \n",
       "\n",
       "   Not Hispanic nor Lation population percentage   White  \\\n",
       "0                                         96.20%   41582   \n",
       "1                                         94.19%  186495   \n",
       "2                                         93.97%   11086   \n",
       "3                                         96.69%   16442   \n",
       "4                                         90.01%   49764   \n",
       "\n",
       "    Black or African American  American Indian and Alaska Native alone  Asian  \\\n",
       "0                       11352                                      184    873   \n",
       "1                       18001                                     1291   2029   \n",
       "2                       11850                                       58    103   \n",
       "3                        4390                                       39     26   \n",
       "4                         826                                      188    174   \n",
       "\n",
       "   Native Hawaiian and Other Pacific Islander alone   Some Other Race alone  \\\n",
       "0                                                22                     185   \n",
       "1                                               122                     775   \n",
       "2                                                 0                      63   \n",
       "3                                                 9                      47   \n",
       "4                                                11                     100   \n",
       "\n",
       "   Unnamed: 34  \n",
       "0          NaN  \n",
       "1          NaN  \n",
       "2          NaN  \n",
       "3          NaN  \n",
       "4          NaN  \n",
       "\n",
       "[5 rows x 35 columns]"
      ]
     },
     "execution_count": 131,
     "metadata": {},
     "output_type": "execute_result"
    }
   ],
   "source": [
    "combine.head()"
   ]
  },
  {
   "cell_type": "code",
   "execution_count": 11,
   "id": "f63ef6fc",
   "metadata": {},
   "outputs": [
    {
     "name": "stderr",
     "output_type": "stream",
     "text": [
      "<ipython-input-11-f667cbe9f305>:1: FutureWarning: The default value of regex will change from True to False in a future version.\n",
      "  combine[\"Female Percentage\"] = combine[\"Female Percentage\"].str.replace('\\%','')\n"
     ]
    }
   ],
   "source": [
    "combine[\"Female Percentage\"] = combine[\"Female Percentage\"].str.replace('\\%','')"
   ]
  },
  {
   "cell_type": "code",
   "execution_count": 12,
   "id": "c5e7c1ae",
   "metadata": {},
   "outputs": [],
   "source": [
    "combine[\"Female Percentage\"] = pd.to_numeric(combine[\"Female Percentage\"])"
   ]
  },
  {
   "cell_type": "code",
   "execution_count": 13,
   "id": "5d9911e6",
   "metadata": {},
   "outputs": [
    {
     "data": {
      "text/plain": [
       "count    3221.000000\n",
       "mean       49.952965\n",
       "std         2.473019\n",
       "min        29.060000\n",
       "25%        49.400000\n",
       "50%        50.400000\n",
       "75%        51.180000\n",
       "max        58.010000\n",
       "Name: Female Percentage, dtype: float64"
      ]
     },
     "execution_count": 13,
     "metadata": {},
     "output_type": "execute_result"
    }
   ],
   "source": [
    "combine[\"Female Percentage\"].describe()"
   ]
  },
  {
   "cell_type": "code",
   "execution_count": 61,
   "id": "3b9779b3",
   "metadata": {},
   "outputs": [],
   "source": [
    "combine[\"Married percentage\"] = pd.to_numeric(combine[\"Married percentage\"])"
   ]
  },
  {
   "cell_type": "code",
   "execution_count": 62,
   "id": "52b03e80",
   "metadata": {},
   "outputs": [
    {
     "data": {
      "text/plain": [
       "count    3221.000000\n",
       "mean       50.972245\n",
       "std         7.455424\n",
       "min        20.500000\n",
       "25%        46.700000\n",
       "50%        51.600000\n",
       "75%        55.800000\n",
       "max        82.100000\n",
       "Name: Married percentage, dtype: float64"
      ]
     },
     "execution_count": 62,
     "metadata": {},
     "output_type": "execute_result"
    }
   ],
   "source": [
    "combine[\"Married percentage\"].describe()"
   ]
  },
  {
   "cell_type": "code",
   "execution_count": 63,
   "id": "dda1cf6b",
   "metadata": {},
   "outputs": [
    {
     "name": "stderr",
     "output_type": "stream",
     "text": [
      "<ipython-input-63-b1ec60d8c060>:1: FutureWarning: The default value of regex will change from True to False in a future version.\n",
      "  combine[\"Poverty level percentage\"] = combine[\"Poverty level percentage\"].str.replace('\\%','')\n"
     ]
    }
   ],
   "source": [
    "combine[\"Poverty level percentage\"] = combine[\"Poverty level percentage\"].str.replace('\\%','')"
   ]
  },
  {
   "cell_type": "code",
   "execution_count": 64,
   "id": "470e82d0",
   "metadata": {},
   "outputs": [],
   "source": [
    "combine[\"Poverty level percentage\"] = pd.to_numeric(combine[\"Poverty level percentage\"])"
   ]
  },
  {
   "cell_type": "code",
   "execution_count": 65,
   "id": "672e8940",
   "metadata": {},
   "outputs": [
    {
     "data": {
      "text/plain": [
       "count    3221.000000\n",
       "mean        6.514154\n",
       "std         4.320342\n",
       "min         0.000000\n",
       "25%         4.080000\n",
       "50%         5.570000\n",
       "75%         7.500000\n",
       "max        39.360000\n",
       "Name: Poverty level percentage, dtype: float64"
      ]
     },
     "execution_count": 65,
     "metadata": {},
     "output_type": "execute_result"
    }
   ],
   "source": [
    "combine[\"Poverty level percentage\"].describe()"
   ]
  },
  {
   "cell_type": "code",
   "execution_count": 66,
   "id": "423f140a",
   "metadata": {},
   "outputs": [
    {
     "name": "stderr",
     "output_type": "stream",
     "text": [
      "<ipython-input-66-1dddb9b64da7>:1: FutureWarning: The default value of regex will change from True to False in a future version.\n",
      "  combine[\"High school degree percentage\"] = combine[\"High school degree percentage\"].str.replace('\\%','')\n"
     ]
    }
   ],
   "source": [
    "combine[\"High school degree percentage\"] = combine[\"High school degree percentage\"].str.replace('\\%','')"
   ]
  },
  {
   "cell_type": "code",
   "execution_count": 67,
   "id": "8de65fad",
   "metadata": {},
   "outputs": [],
   "source": [
    "combine[\"High school degree percentage\"] = pd.to_numeric(combine[\"High school degree percentage\"])"
   ]
  },
  {
   "cell_type": "code",
   "execution_count": 68,
   "id": "0b163257",
   "metadata": {},
   "outputs": [
    {
     "data": {
      "text/plain": [
       "count    3221.000000\n",
       "mean       26.627740\n",
       "std         5.697803\n",
       "min         5.640000\n",
       "25%        22.820000\n",
       "50%        26.660000\n",
       "75%        30.700000\n",
       "max        52.040000\n",
       "Name: High school degree percentage, dtype: float64"
      ]
     },
     "execution_count": 68,
     "metadata": {},
     "output_type": "execute_result"
    }
   ],
   "source": [
    "combine[\"High school degree percentage\"].describe()"
   ]
  },
  {
   "cell_type": "markdown",
   "id": "99d59e4c",
   "metadata": {},
   "source": [
    "# Overview of the interested variable Covid"
   ]
  },
  {
   "cell_type": "code",
   "execution_count": 14,
   "id": "aa254440",
   "metadata": {},
   "outputs": [],
   "source": [
    "covid_19 = pd.read_csv('us-counties.csv')"
   ]
  },
  {
   "cell_type": "code",
   "execution_count": 132,
   "id": "556b307f",
   "metadata": {},
   "outputs": [
    {
     "data": {
      "text/html": [
       "<div>\n",
       "<style scoped>\n",
       "    .dataframe tbody tr th:only-of-type {\n",
       "        vertical-align: middle;\n",
       "    }\n",
       "\n",
       "    .dataframe tbody tr th {\n",
       "        vertical-align: top;\n",
       "    }\n",
       "\n",
       "    .dataframe thead th {\n",
       "        text-align: right;\n",
       "    }\n",
       "</style>\n",
       "<table border=\"1\" class=\"dataframe\">\n",
       "  <thead>\n",
       "    <tr style=\"text-align: right;\">\n",
       "      <th></th>\n",
       "      <th>date</th>\n",
       "      <th>county</th>\n",
       "      <th>state</th>\n",
       "      <th>fips</th>\n",
       "      <th>cases</th>\n",
       "      <th>deaths</th>\n",
       "    </tr>\n",
       "  </thead>\n",
       "  <tbody>\n",
       "    <tr>\n",
       "      <th>0</th>\n",
       "      <td>2020-01-21</td>\n",
       "      <td>Snohomish</td>\n",
       "      <td>Washington</td>\n",
       "      <td>53061.0</td>\n",
       "      <td>1</td>\n",
       "      <td>0.0</td>\n",
       "    </tr>\n",
       "    <tr>\n",
       "      <th>1</th>\n",
       "      <td>2020-01-22</td>\n",
       "      <td>Snohomish</td>\n",
       "      <td>Washington</td>\n",
       "      <td>53061.0</td>\n",
       "      <td>1</td>\n",
       "      <td>0.0</td>\n",
       "    </tr>\n",
       "    <tr>\n",
       "      <th>2</th>\n",
       "      <td>2020-01-23</td>\n",
       "      <td>Snohomish</td>\n",
       "      <td>Washington</td>\n",
       "      <td>53061.0</td>\n",
       "      <td>1</td>\n",
       "      <td>0.0</td>\n",
       "    </tr>\n",
       "    <tr>\n",
       "      <th>3</th>\n",
       "      <td>2020-01-24</td>\n",
       "      <td>Cook</td>\n",
       "      <td>Illinois</td>\n",
       "      <td>17031.0</td>\n",
       "      <td>1</td>\n",
       "      <td>0.0</td>\n",
       "    </tr>\n",
       "    <tr>\n",
       "      <th>4</th>\n",
       "      <td>2020-01-24</td>\n",
       "      <td>Snohomish</td>\n",
       "      <td>Washington</td>\n",
       "      <td>53061.0</td>\n",
       "      <td>1</td>\n",
       "      <td>0.0</td>\n",
       "    </tr>\n",
       "  </tbody>\n",
       "</table>\n",
       "</div>"
      ],
      "text/plain": [
       "         date     county       state     fips  cases  deaths\n",
       "0  2020-01-21  Snohomish  Washington  53061.0      1     0.0\n",
       "1  2020-01-22  Snohomish  Washington  53061.0      1     0.0\n",
       "2  2020-01-23  Snohomish  Washington  53061.0      1     0.0\n",
       "3  2020-01-24       Cook    Illinois  17031.0      1     0.0\n",
       "4  2020-01-24  Snohomish  Washington  53061.0      1     0.0"
      ]
     },
     "execution_count": 132,
     "metadata": {},
     "output_type": "execute_result"
    }
   ],
   "source": [
    "covid_19.head()"
   ]
  },
  {
   "cell_type": "code",
   "execution_count": 21,
   "id": "a3d5ebdc",
   "metadata": {},
   "outputs": [],
   "source": [
    "county_withdup = []\n",
    "for col in covid_19.county:\n",
    "    county_withdup.append(col)"
   ]
  },
  {
   "cell_type": "code",
   "execution_count": 27,
   "id": "caced2aa",
   "metadata": {},
   "outputs": [],
   "source": [
    "def unique(county):\n",
    "    unique_county = []\n",
    "    for x in county:\n",
    "        if x not in unique_county:\n",
    "            unique_county.append(x)\n",
    "    return unique_county"
   ]
  },
  {
   "cell_type": "code",
   "execution_count": 28,
   "id": "4d3878ec",
   "metadata": {},
   "outputs": [],
   "source": [
    "unique_county = unique(county_withdup)"
   ]
  },
  {
   "cell_type": "code",
   "execution_count": 30,
   "id": "ea73970e",
   "metadata": {},
   "outputs": [
    {
     "data": {
      "text/plain": [
       "1932"
      ]
     },
     "execution_count": 30,
     "metadata": {},
     "output_type": "execute_result"
    }
   ],
   "source": [
    "len(unique_county)"
   ]
  },
  {
   "cell_type": "markdown",
   "id": "a6e9d308",
   "metadata": {},
   "source": [
    "Here we can see that there is missing data for the Covid-19 cases for all counties"
   ]
  },
  {
   "cell_type": "code",
   "execution_count": null,
   "id": "32bd4a79",
   "metadata": {},
   "outputs": [],
   "source": []
  }
 ],
 "metadata": {
  "kernelspec": {
   "display_name": "Python 3",
   "language": "python",
   "name": "python3"
  },
  "language_info": {
   "codemirror_mode": {
    "name": "ipython",
    "version": 3
   },
   "file_extension": ".py",
   "mimetype": "text/x-python",
   "name": "python",
   "nbconvert_exporter": "python",
   "pygments_lexer": "ipython3",
   "version": "3.8.8"
  }
 },
 "nbformat": 4,
 "nbformat_minor": 5
}
